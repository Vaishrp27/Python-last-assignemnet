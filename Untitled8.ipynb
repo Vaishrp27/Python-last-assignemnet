{
  "nbformat": 4,
  "nbformat_minor": 0,
  "metadata": {
    "colab": {
      "provenance": []
    },
    "kernelspec": {
      "name": "python3",
      "display_name": "Python 3"
    },
    "language_info": {
      "name": "python"
    }
  },
  "cells": [
    {
      "cell_type": "markdown",
      "source": [],
      "metadata": {
        "id": "pQuu-3TusNhs"
      }
    },
    {
      "cell_type": "code",
      "source": [
        "#1.How do you create a 2D NumPy array and calculate the sum of each row\n",
        "import numpy as np\n",
        "arr = np.array([[1, 2, 3], [4, 5, 6], [7, 8, 9]])\n",
        "print(arr)"
      ],
      "metadata": {
        "id": "bG3ieJgHsRNO"
      },
      "execution_count": null,
      "outputs": []
    },
    {
      "cell_type": "code",
      "source": [
        "#2.Write a Pandas script to find the mean of a specific column in a DataFrame\n",
        "import pandas as pd\n",
        "\n",
        "# Sample DataFrame\n",
        "data = {\n",
        "    'Name': ['Alice', 'Bob', 'Charlie', 'David'],\n",
        "    'Age': [25, 30, 35, 40],\n",
        "    'Score': [88, 92, 85, 90]\n",
        "}\n",
        "\n",
        "df = pd.DataFrame(data)\n",
        "\n",
        "# Compute the mean of the 'Score' column\n",
        "mean\n"
      ],
      "metadata": {
        "id": "EQh9nR4BsUZl"
      },
      "execution_count": null,
      "outputs": []
    },
    {
      "cell_type": "code",
      "source": [
        "#3.A Create a scatter plot using MatplotlibA\n",
        "import matplotlib.pyplot as plt\n",
        "\n",
        "# Sample data\n",
        "x = [10, 20, 30, 40, 50]\n",
        "y = [15, 25, 28, 35, 45]\n",
        "\n",
        "# Create scatter plot\n",
        "plt.figure(figsize=(8, 5))\n",
        "plt.scatter(x, y, color='blue', marker='o', label='Data points')\n",
        "\n",
        "# Add titles and labels\n",
        "plt.title('Sample Scatter Plot')\n",
        "plt.xlabel('X Axis')\n",
        "plt.ylabel('Y Axis')\n",
        "plt.legend()\n",
        "plt.grid(True)\n",
        "plt.show()\n"
      ],
      "metadata": {
        "id": "tajH4-nEsjOm"
      },
      "execution_count": null,
      "outputs": []
    },
    {
      "cell_type": "code",
      "source": [
        "#4. How do you calculate the correlation matrix using Seaborn and visualize it with a heatmap\n",
        "import pandas as pd\n",
        "import seaborn as sns\n",
        "import matplotlib.pyplot as plt\n",
        "\n",
        "# Sample DataFrame\n",
        "data = {\n",
        "    'Math': [85, 78, 92, 88, 76],\n",
        "    'Science': [90, 75, 88, 95, 70],\n",
        "    'English': [78, 80, 85, 83, 77],\n",
        "    'History': [70, 72, 80, 78, 75]\n",
        "}\n",
        "\n",
        "df = pd.DataFrame(data)\n",
        "\n",
        "# Step 1: Calculate the correlation matrix\n",
        "corr_matrix = df.corr()\n",
        "\n",
        "# Step 2: Visualize it with Seaborn heatmap\n",
        "plt.figure(figsize=(8, 6))\n",
        "sns.heatmap(corr_matrix, annot=True, cmap='coolwarm', fmt=\".2f\", linewidths=0.5)\n",
        "plt.title('Correlation Matrix Heatmap')\n",
        "plt.show()\n"
      ],
      "metadata": {
        "id": "VapXJJHGsqEW"
      },
      "execution_count": null,
      "outputs": []
    },
    {
      "cell_type": "code",
      "source": [
        "#5.A Generate a bar plot using Plotly\n",
        "import plotly.express as px\n",
        "import pandas as pd\n",
        "\n",
        "# Sample data\n",
        "data = {\n",
        "    'Category': ['A', 'B', 'C', 'D'],\n",
        "    'Value': [23, 17, 35, 29]\n",
        "}\n",
        "\n",
        "df = pd.DataFrame(d\n"
      ],
      "metadata": {
        "id": "kl2h6h71sxov"
      },
      "execution_count": null,
      "outputs": []
    },
    {
      "cell_type": "code",
      "source": [
        "#6.Create a DataFrame and add a new column based on an existing columnA\n",
        "import pandas as pd\n",
        "\n",
        "# Step 1: Create a sample DataFrame\n",
        "data = {\n",
        "    'Name': ['Alice', 'Bob', 'Charlie', 'David'],\n",
        "    'Score': [85, 92, 78, 88]\n",
        "}\n",
        "\n",
        "df = pd.DataFrame(data)\n",
        "\n",
        "# Step 2: Add a new column 'Grade' based on 'Score'\n",
        "df['Grade'] = df['Score'].apply(lambda x: 'A' if x >= 90 else 'B' if x >= 80 else 'C')\n",
        "\n",
        "# Display the updated DataFrame\n",
        "print(df)\n"
      ],
      "metadata": {
        "id": "O-BfG1G0s5EW"
      },
      "execution_count": null,
      "outputs": []
    },
    {
      "cell_type": "code",
      "source": [
        "#7.Write a program to perform element-wise multiplication of two NumPy arrays\n",
        "import numpy as np\n",
        "\n",
        "# Define two NumPy arrays\n",
        "array1 = np.array([2, 4, 6, 8])\n",
        "array2 = np.array([1, 3, 5, 7])\n",
        "\n",
        "# Element-wise multiplication\n",
        "result = array1 * array2\n",
        "\n",
        "# Display result\n",
        "print(\"Array 1:\", array1)\n",
        "print(\"Array 2:\", array2)\n",
        "print(\"Element-wise Multiplication:\", result)\n"
      ],
      "metadata": {
        "id": "xk85mo4AtChm"
      },
      "execution_count": null,
      "outputs": []
    },
    {
      "cell_type": "code",
      "source": [
        "#8. Create a line plot with multiple lines using Matplotlib\n",
        "import matplotlib.pyplot as plt\n",
        "\n",
        "# Sample data\n",
        "x = [1, 2, 3, 4, 5]\n",
        "y1 = [2, 4, 6, 8, 10]\n",
        "y2 = [1, 3, 5, 7, 9]\n",
        "y3 = [5, 3, 4, 2, 1]\n",
        "\n",
        "# Create the plot\n",
        "plt.figure(figsize=(8, 5))\n",
        "\n",
        "# Plot each line\n",
        "plt.plot(x, y1, label='Line 1 - y=2x', marker='o')\n",
        "plt.plot(x, y2, label='Line 2 - y=2x-1', marker='s')\n",
        "plt.plot(x, y3, label='Line 3 - custom', marker='^')\n",
        "\n",
        "# Add labels and title\n",
        "plt.xlabel('X Axis')\n",
        "plt.ylabel('Y Axis')\n",
        "plt.title('Line Plot with Multiple Lines')\n",
        "plt.legend()\n",
        "plt.grid(True)\n",
        "plt.tight_layout()\n",
        "\n",
        "# Show the plot\n",
        "plt.show()\n"
      ],
      "metadata": {
        "id": "TmRB-Pr2tJru"
      },
      "execution_count": null,
      "outputs": []
    },
    {
      "cell_type": "code",
      "source": [
        "#9.Generate a Pandas DataFrame and filter rows where a column value is greater than a threshold\n",
        "import pandas as pd\n",
        "\n",
        "# Step 1: Create a sample DataFrame\n",
        "data = {\n",
        "    'Name': ['Alice', 'Bob', 'Charlie', 'David', 'Eve'],\n",
        "    'Score': [85, 92, 78, 88, 67]\n",
        "}\n",
        "\n",
        "df = pd.DataFrame(data)\n",
        "\n",
        "# Step 2: Define a threshold\n",
        "threshold = 80\n",
        "\n",
        "# Step 3: Filter rows where 'Score' > threshold\n",
        "filtered_df = df[df['Score'] > threshold]\n",
        "\n",
        "# Display the filtered DataFrame\n",
        "print(\"Original DataFrame:\")\n",
        "print(df)\n",
        "print(\"\\nFiltered DataFrame (Score > 80):\")\n",
        "print(filtered_df)\n"
      ],
      "metadata": {
        "id": "iYIbEGk5tPxO"
      },
      "execution_count": null,
      "outputs": []
    },
    {
      "cell_type": "code",
      "source": [
        "#10.Create a histogram using Seaborn to visualize a distribution\n",
        "import seaborn as sns\n",
        "import matplotlib.pyplot as plt\n",
        "import numpy as np\n",
        "\n",
        "# Generate sample data (e.g., normally distributed)\n",
        "data = np.random.normal(loc=0, scale=1, size=1000)\n",
        "\n",
        "# Create histogram\n",
        "sns.histplot(data, bins=30, kde=True, color='skyblue')\n",
        "\n",
        "# Add title and labels\n",
        "plt.title('Histogram of Normally Distributed Data')\n",
        "plt.xlabel('Value')\n",
        "plt.ylabel('Frequency')\n",
        "\n",
        "plt.show()\n"
      ],
      "metadata": {
        "id": "nqo71FVOtbRG"
      },
      "execution_count": null,
      "outputs": []
    },
    {
      "cell_type": "code",
      "source": [
        "#12. Perform matrix multiplication using NumPy\n",
        "import numpy as np\n",
        "\n",
        "# Define two matrices (2D arrays)\n",
        "A = np.array([[1, 2],\n",
        "              [3, 4]])\n",
        "\n",
        "B = np.array([[5, 6],\n",
        "              [7, 8]])\n",
        "\n",
        "# Method 1: Using np.dot()\n",
        "result_dot = np.dot(A, B)\n",
        "\n",
        "# Method 2: Using the @ operator (Python 3.5+)\n",
        "result_at = A @ B\n",
        "\n",
        "print(\"Matrix A:\\n\", A)\n",
        "print(\"Matrix B:\\n\", B)\n",
        "print(\"Result using np.dot():\\n\", result_dot)\n",
        "print(\"Result using @ operator:\\n\", result_at)\n"
      ],
      "metadata": {
        "id": "WIda64lQti9u"
      },
      "execution_count": null,
      "outputs": []
    },
    {
      "cell_type": "code",
      "source": [
        "#12.Use Pandas to load a CSV file and display its first 5 rows\n",
        "import pandas as pd\n",
        "\n",
        "# Load the CSV file into a DataFrame\n",
        "df = pd.read_csv('your_file.csv')\n",
        "\n",
        "# Display the first 5 rows\n",
        "print(df.head())\n"
      ],
      "metadata": {
        "id": "-D2gB7estqpv"
      },
      "execution_count": null,
      "outputs": []
    },
    {
      "cell_type": "code",
      "source": [
        "#13.A Create a 3D scatter plot using Plotly.\n",
        "import plotly.express as px\n",
        "import pandas as pd\n",
        "\n",
        "# Sample data\n",
        "data = {\n",
        "    'X': [1, 2, 3, 4, 5],\n",
        "    'Y': [5, 4, 3, 2, 1],\n",
        "    'Z': [2, 3, 4, 5, 6],\n",
        "    'Category': ['A', 'B', 'A', 'B', 'A']\n",
        "}\n",
        "\n",
        "df = pd.DataFrame(data)\n",
        "\n",
        "# Create 3D scatter plot\n",
        "fig = px.scatter_3d(df, x='X', y='Y', z='Z', color='Category',\n"
      ],
      "metadata": {
        "id": "skh6B7Dztx1d"
      },
      "execution_count": null,
      "outputs": []
    },
    {
      "cell_type": "markdown",
      "source": [
        "1.A What is NumPy, and why is it widely used in Python?\n",
        "NumPy (Numerical Python) is a powerful open-source Python library primarily used for:\n",
        "\n",
        "Numerical computing\n",
        "\n",
        "Handling large, multi-dimensional arrays and matrices\n",
        "\n",
        "Performing mathematical operations on these arrays efficiently\n",
        "2. How does broadcasting work in NumPy\n",
        "Broadcasting is a powerful mechanism that allows NumPy to perform arithmetic operations on arrays of different shapes without explicitly replicating data.\n",
        "\n",
        "It “stretches” the smaller array across the larger array so that their shapes become compatible for element-wise operations.\n",
        "3.What is a Pandas DataFrame?\n",
        "A Pandas DataFrame is a 2-dimensional, size-mutable, and heterogeneous tabular data structure with labeled axes (rows and columns) in Python.\n",
        "4. Explain the use of the groupby() method in Pandas\n",
        "The groupby() method is used to split a DataFrame into groups based on some criteria, apply a function (like aggregation, transformation, or filtration) to each group independently, and then combine the results back together.\n",
        "\n",
        "It's a key tool for data aggregation and analysis.\n",
        "5.Why is Seaborn preferred for statistical visualizations?\n",
        "Built on top of Matplotlib:\n",
        "Seaborn extends Matplotlib’s functionality with a simpler, higher-level interface tailored for statistical graphics.\n",
        "\n",
        "Simplifies Complex Visualizations:\n",
        "It provides easy-to-use functions for complex plots like violin plots, box plots, pair plots, heatmaps, regression plots, and more — with just a few lines of code.\n",
        "\n",
        "Automatic Statistical Aggregations:\n",
        "Many Seaborn functions automatically perform statistical aggregations and summarize data (e.g., means with confidence intervals), saving you from manually computing these.\n",
        "6.A What are the differences between NumPy arrays and Python lists\n",
        "array-Homogeneous (all elements same type),Much faster for numerical operations (implemented in C),More memory efficient (compact storage),Supports element-wise operations, broadcasting, linear algebra, and many mathematical functions\n",
        "Python ists-Heterogeneous (elements can be different types),Slower for numerical tasks (pure Python),Less memory efficient,Basic operations; no native support for element-wise math\n",
        "7.What is a heatmap, and when should it be used?\n",
        "A heatmap is a graphical representation of data where individual values in a matrix are represented as colors. Typically, the data is displayed as a grid, where:\n",
        "\n",
        "Rows and columns correspond to variables or categories.\n",
        "\n",
        "Colors indicate the magnitude or intensity of the values.\n",
        "\n",
        "It helps to visualize complex data patterns, correlations, or densities at a glance\n",
        "8. What does the term “vectorized operation” mean in NumPy?\n",
        "A vectorized operation refers to performing operations on entire arrays (vectors, matrices) at once, without using explicit loops in Python.\n",
        "\n",
        "Instead of iterating element-by-element, NumPy applies the operation simultaneously across all elements, leveraging optimized, low-level implementations in C.\n",
        "9.How does Matplotlib differ from Plotly?\n",
        "Matplotlib is great for creating static, publication-quality plots with fine-grained control.\n",
        "\n",
        "Plotly shines when you want rich, interactive visualizations, especially for web or exploratory use.\n",
        "10.What is the significance of hierarchical indexing in Pandas?\n",
        "Hierarchical indexing means having multiple levels of indexes on an axis (rows or columns) in a DataFrame or Series.\n",
        "\n",
        "Instead of a simple, single-level index, you can have a multi-level index that organizes data in a tree-like structure\n",
        "11.What is the role of Seaborn’s pairplot() function\n",
        "pairplot() is a powerful Seaborn function that:\n",
        "\n",
        "Automatically creates a matrix of scatter plots (pairwise relationships) for all numerical variables in a dataset.\n",
        "\n",
        "Plots histograms or KDE plots on the diagonal to show the distribution of each variable\n",
        "12.What is the purpose of the describe() function in Pandas?\n",
        "The describe() function generates summary statistics of the numerical (or categorical) columns in a DataFrame or Series.\n",
        "\n",
        "It provides a quick overview of the data’s distribution and helps you understand its main characteristics.\n",
        "13.A Why is handling missing data important in Pandas\n",
        "Data Quality & Integrity:\n",
        "Missing data can lead to incorrect analyses, biased results, and misleading conclusions if not properly addressed.\n",
        "\n",
        "Algorithm Compatibility:\n",
        "Many statistical models, machine learning algorithms, and functions do not handle missing values and may throw errors or behave unpredictably.\n",
        "\n",
        "Accurate Summaries:\n",
        "Calculations like mean, median, correlation, and aggregations can be skewed or invalid if missing values aren’t handled.\n",
        "14.A What are the benefits of using Plotly for data visualization\n",
        "Interactive Visualizations:\n",
        "Plotly creates highly interactive charts where users can zoom, pan, hover for tooltips, select, and filter data points dynamically.\n",
        "\n",
        "Web-Friendly & Embeddable:\n",
        "Visualizations are HTML and JavaScript-based, making them easy to embed in web apps, dashboards, or share via browsers without extra plugins.\n",
        "\n",
        "Wide Range of Chart Types:\n",
        "Supports basic charts (bar, line, scatter) and advanced plots like 3D plots, maps, network graphs, and animations.\n",
        "15.How does NumPy handle multidimensional arrays\n",
        "N-dimensional Array Object (ndarray):\n",
        "NumPy’s core data structure is the ndarray, which can represent arrays of any number of dimensions (1D, 2D, 3D, ... nD).\n",
        "\n",
        "Shape and Dimensions:\n",
        "Each array has a shape attribute, a tuple indicating the size along each dimension.\n",
        "For example, a 3x4 matrix has shape (3, 4), a 3D array might have shape (2, 3, 4).\n",
        "\n",
        "Efficient Memory Layout:\n",
        "Multidimensional arrays are stored in contiguous blocks of memory, enabling fast access and efficient computations.\n",
        "\n",
        "Indexing and Slicing:\n",
        "You can access elements using multiple indices, e.g., arr[1, 2] for 2D arrays, or slice across dimensions, e.g., arr[:, 1]"
      ],
      "metadata": {
        "id": "F9hf4seyt8Fm"
      }
    }
  ]
}